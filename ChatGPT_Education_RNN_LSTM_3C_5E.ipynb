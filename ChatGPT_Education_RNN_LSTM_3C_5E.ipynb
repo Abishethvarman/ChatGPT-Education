{
  "nbformat": 4,
  "nbformat_minor": 0,
  "metadata": {
    "colab": {
      "provenance": [],
      "authorship_tag": "ABX9TyObzhPhx5RTuz2ec2GDmn+y",
      "include_colab_link": true
    },
    "kernelspec": {
      "name": "python3",
      "display_name": "Python 3"
    },
    "language_info": {
      "name": "python"
    }
  },
  "cells": [
    {
      "cell_type": "markdown",
      "metadata": {
        "id": "view-in-github",
        "colab_type": "text"
      },
      "source": [
        "<a href=\"https://colab.research.google.com/github/Abishethvarman/ChatGPT-Education/blob/main/ChatGPT_Education_RNN_LSTM_3C_5E.ipynb\" target=\"_parent\"><img src=\"https://colab.research.google.com/assets/colab-badge.svg\" alt=\"Open In Colab\"/></a>"
      ]
    },
    {
      "cell_type": "markdown",
      "source": [
        "# Analysis of tweets on education in ChatGPT\n",
        "## Bi-directional LSTM with RNN Architecture for 3 classes (5 iteration)\n",
        "Neutral - 0\n",
        "Positive - 1\n",
        "Negative - 2\n",
        "\n",
        "\n",
        "---\n",
        "\n",
        "\n",
        "The data set : https://drive.google.com/file/d/1Lw3UNB5FCUQqm1Otk7EYBvpDyIHM7ALi/view?usp=drive_link\n",
        "\n",
        "---\n",
        "\n",
        "\n",
        "Orgin: https://www.kaggle.com/datasets/nutrientaxis/chatgpt-and-education-tweets-dataset?select=ChatGPT_Education_Tweets_Dataset.csv"
      ],
      "metadata": {
        "id": "99iyBPt6ahw8"
      }
    },
    {
      "cell_type": "code",
      "source": [
        "import tensorflow as tf\n",
        "import pandas as pd\n",
        "import numpy as np\n",
        "import matplotlib.pyplot as plt\n",
        "import seaborn as sns\n",
        "from wordcloud import WordCloud, STOPWORDS\n",
        "import nltk\n",
        "import re\n",
        "import gensim\n",
        "from nltk import download\n",
        "from nltk.stem import PorterStemmer, WordNetLemmatizer\n",
        "from nltk.corpus import stopwords\n",
        "from nltk.tokenize import word_tokenize, sent_tokenize\n",
        "nltk.download(\"stopwords\")\n",
        "download('punkt')\n",
        "\n",
        "from gensim.utils import simple_preprocess\n",
        "from gensim.parsing.preprocessing import STOPWORDS\n",
        "from nltk.corpus import stopwords\n",
        "\n",
        "from sklearn.model_selection import train_test_split\n",
        "from sklearn.metrics import accuracy_score, classification_report, confusion_matrix, precision_score, recall_score, f1_score\n",
        "\n",
        "from tensorflow.keras.preprocessing.text import Tokenizer\n",
        "from tensorflow.keras.preprocessing.sequence import pad_sequences\n",
        "from tensorflow.keras.models import Sequential\n",
        "from tensorflow.keras.layers import Dense, Embedding, LSTM, Bidirectional"
      ],
      "metadata": {
        "colab": {
          "base_uri": "https://localhost:8080/"
        },
        "id": "o2tK6q1quRDf",
        "outputId": "d380ae0a-703a-4f43-cc4f-a4b99ad13c73"
      },
      "execution_count": null,
      "outputs": [
        {
          "output_type": "stream",
          "name": "stderr",
          "text": [
            "[nltk_data] Downloading package stopwords to /root/nltk_data...\n",
            "[nltk_data]   Unzipping corpora/stopwords.zip.\n",
            "[nltk_data] Downloading package punkt to /root/nltk_data...\n",
            "[nltk_data]   Unzipping tokenizers/punkt.zip.\n"
          ]
        }
      ]
    },
    {
      "cell_type": "code",
      "source": [
        "from google.colab import drive\n",
        "drive.mount('/content/gdrive')\n",
        "\n",
        "!ln -s /content/gdrive/My\\ Drive/ /mydrive\n",
        "!ls /mydrive"
      ],
      "metadata": {
        "id": "aptG57XbuXaT"
      },
      "execution_count": null,
      "outputs": []
    },
    {
      "cell_type": "code",
      "source": [
        "%cd /mydrive/dataset/"
      ],
      "metadata": {
        "colab": {
          "base_uri": "https://localhost:8080/"
        },
        "id": "cmNNMgBPvGQH",
        "outputId": "4f736283-c405-4625-d009-8a1f6ee8ccd5"
      },
      "execution_count": null,
      "outputs": [
        {
          "output_type": "stream",
          "name": "stdout",
          "text": [
            "/content/gdrive/My Drive/dataset\n"
          ]
        }
      ]
    },
    {
      "cell_type": "code",
      "source": [
        "df_data = pd.read_csv(\"ChatGPT_Education_Tweets_Dataset.csv\")"
      ],
      "metadata": {
        "id": "mgkI12YRuTkc"
      },
      "execution_count": null,
      "outputs": []
    },
    {
      "cell_type": "code",
      "source": [
        "#labels to integers\n",
        "df_data['sentiment'] = df_data['sentiment'].replace({'neutral': 0, 'positive': 1, 'negative': 2})"
      ],
      "metadata": {
        "id": "VUc2eSWQvNHr"
      },
      "execution_count": null,
      "outputs": []
    },
    {
      "cell_type": "code",
      "source": [
        "# Preprocessing\n",
        "def preprocess(text):\n",
        "    stop_words = stopwords.words('english')\n",
        "    stop_words.extend(['from', 'subject', 're', 'edu', 'use', 'one', 'two', 'more'])\n",
        "\n",
        "    words = word_tokenize(text)\n",
        "    filtered_words = [word for word in words if word.lower() not in stop_words and word.lower() != 'mor']\n",
        "    return ' '.join(filtered_words)"
      ],
      "metadata": {
        "id": "3zZvLhFivNQ9"
      },
      "execution_count": null,
      "outputs": []
    },
    {
      "cell_type": "code",
      "source": [
        "# Apply preprocessing\n",
        "df_data['clean'] = df_data['text'].apply(preprocess)"
      ],
      "metadata": {
        "id": "ZNATKpk1vWds"
      },
      "execution_count": null,
      "outputs": []
    },
    {
      "cell_type": "code",
      "source": [
        "\n",
        "# Tokenize and pad sequences\n",
        "tokenizer = Tokenizer()\n",
        "tokenizer.fit_on_texts(df_data['clean'])\n",
        "sequences = tokenizer.texts_to_sequences(df_data['clean'])\n",
        "maxlen = 40\n",
        "\n",
        "# Get the total number of unique words\n",
        "# Adding 1 to account for padding token\n",
        "total_words = len(tokenizer.word_index) + 1\n",
        "\n",
        "# Padding the sequences\n",
        "padded_sequences = pad_sequences(sequences, maxlen=maxlen, padding='post', truncating='post')\n"
      ],
      "metadata": {
        "id": "j4TUpZm9vXqr"
      },
      "execution_count": null,
      "outputs": []
    },
    {
      "cell_type": "code",
      "source": [
        "# Split data into train and test sets 80:20\n",
        "x_train, x_test, y_train, y_test = train_test_split(padded_sequences, df_data['sentiment'], test_size=0.2)"
      ],
      "metadata": {
        "id": "5Mdee7xKvZfR"
      },
      "execution_count": null,
      "outputs": []
    },
    {
      "cell_type": "code",
      "source": [
        "# Create a multi-class LSTM model\n",
        "model = Sequential()\n",
        "model.add(Embedding(total_words, output_dim=128))\n",
        "model.add(Bidirectional(LSTM(128)))\n",
        "model.add(Dense(3, activation='softmax'))  # Output layer with softmax for multi-class classification\n",
        "model.compile(optimizer='adam', loss='sparse_categorical_crossentropy', metrics=['acc'])\n",
        "model.summary()"
      ],
      "metadata": {
        "colab": {
          "base_uri": "https://localhost:8080/"
        },
        "id": "nGIDlum6vduj",
        "outputId": "67c78b61-55a3-4e98-eb78-80de2aaacd10"
      },
      "execution_count": null,
      "outputs": [
        {
          "output_type": "stream",
          "name": "stdout",
          "text": [
            "Model: \"sequential\"\n",
            "_________________________________________________________________\n",
            " Layer (type)                Output Shape              Param #   \n",
            "=================================================================\n",
            " embedding (Embedding)       (None, None, 128)         14868224  \n",
            "                                                                 \n",
            " bidirectional (Bidirectiona  (None, 256)              263168    \n",
            " l)                                                              \n",
            "                                                                 \n",
            " dense (Dense)               (None, 3)                 771       \n",
            "                                                                 \n",
            "=================================================================\n",
            "Total params: 15,132,163\n",
            "Trainable params: 15,132,163\n",
            "Non-trainable params: 0\n",
            "_________________________________________________________________\n"
          ]
        }
      ]
    },
    {
      "cell_type": "code",
      "source": [
        "# Train the model\n",
        "model.fit(x_train, y_train, batch_size=64, validation_split=0.1, epochs=5)\n"
      ],
      "metadata": {
        "colab": {
          "base_uri": "https://localhost:8080/"
        },
        "id": "UBDS59McvqFw",
        "outputId": "c6922d3a-5306-4ff8-e846-f2bc7c20a79f"
      },
      "execution_count": null,
      "outputs": [
        {
          "output_type": "stream",
          "name": "stdout",
          "text": [
            "Epoch 1/5\n",
            "2659/2659 [==============================] - 1463s 548ms/step - loss: 0.6074 - acc: 0.7338 - val_loss: 0.5381 - val_acc: 0.7658\n",
            "Epoch 2/5\n",
            "2659/2659 [==============================] - 1484s 558ms/step - loss: 0.4343 - acc: 0.8191 - val_loss: 0.5557 - val_acc: 0.7630\n",
            "Epoch 3/5\n",
            "2659/2659 [==============================] - 1509s 568ms/step - loss: 0.3247 - acc: 0.8701 - val_loss: 0.5987 - val_acc: 0.7547\n",
            "Epoch 4/5\n",
            "2659/2659 [==============================] - 1503s 565ms/step - loss: 0.2386 - acc: 0.9068 - val_loss: 0.7255 - val_acc: 0.7531\n",
            "Epoch 5/5\n",
            "2659/2659 [==============================] - 1933s 727ms/step - loss: 0.1760 - acc: 0.9320 - val_loss: 0.8681 - val_acc: 0.7436\n"
          ]
        },
        {
          "output_type": "execute_result",
          "data": {
            "text/plain": [
              "<keras.callbacks.History at 0x7ab25c2c1a80>"
            ]
          },
          "metadata": {},
          "execution_count": 16
        }
      ]
    },
    {
      "cell_type": "code",
      "execution_count": null,
      "metadata": {
        "colab": {
          "base_uri": "https://localhost:8080/",
          "height": 768
        },
        "id": "mKdjtvKxuLxe",
        "outputId": "1b760139-da24-4fdf-e4a7-298396a7bd74"
      },
      "outputs": [
        {
          "output_type": "stream",
          "name": "stdout",
          "text": [
            "1477/1477 [==============================] - 121s 80ms/step\n",
            "Model Accuracy: 0.7465030155539096\n",
            "Classification Report:\n",
            "               precision    recall  f1-score   support\n",
            "\n",
            "     neutral       0.77      0.78      0.78     24370\n",
            "    positive       0.76      0.74      0.75     14025\n",
            "    negative       0.66      0.66      0.66      8860\n",
            "\n",
            "    accuracy                           0.75     47255\n",
            "   macro avg       0.73      0.73      0.73     47255\n",
            "weighted avg       0.75      0.75      0.75     47255\n",
            "\n"
          ]
        },
        {
          "output_type": "display_data",
          "data": {
            "text/plain": [
              "<Figure size 800x600 with 2 Axes>"
            ],
            "image/png": "[encoded data removed]"
          },
          "metadata": {}
        }
      ],
      "source": [
        "# Classification and Evaluation\n",
        "predictions = model.predict(x_test)\n",
        "classification = np.argmax(predictions, axis=1)\n",
        "\n",
        "accuracy = accuracy_score(y_test, classification)\n",
        "print(\"Model Accuracy:\", accuracy)\n",
        "\n",
        "report = classification_report(y_test, classification, target_names=[\"neutral\", \"positive\", \"negative\"])\n",
        "print(\"Classification Report:\\n\", report)\n",
        "\n",
        "cm = confusion_matrix(y_test, classification)\n",
        "plt.figure(figsize=(8, 6))\n",
        "sns.heatmap(cm, annot=True, fmt=\"d\", cmap=\"Blues\")\n",
        "plt.xlabel(\"Predicted\")\n",
        "plt.ylabel(\"Actual\")\n",
        "plt.show()\n"
      ]
    },
    {
      "cell_type": "markdown",
      "source": [],
      "metadata": {
        "id": "CGT9M8bUafZV"
      }
    },
    {
      "cell_type": "code",
      "source": [],
      "metadata": {
        "id": "64bSRstcvcXu"
      },
      "execution_count": null,
      "outputs": []
    }
  ]
}