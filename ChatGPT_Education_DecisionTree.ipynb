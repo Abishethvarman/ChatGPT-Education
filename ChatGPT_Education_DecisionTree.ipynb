{
  "nbformat": 4,
  "nbformat_minor": 0,
  "metadata": {
    "colab": {
      "provenance": [],
      "authorship_tag": "ABX9TyOSYyPROMqzXhCT+0vKgOe5",
      "include_colab_link": true
    },
    "kernelspec": {
      "name": "python3",
      "display_name": "Python 3"
    },
    "language_info": {
      "name": "python"
    }
  },
  "cells": [
    {
      "cell_type": "markdown",
      "metadata": {
        "id": "view-in-github",
        "colab_type": "text"
      },
      "source": [
        "<a href=\"https://colab.research.google.com/github/Abishethvarman/ChatGPT-Education/blob/main/ChatGPT_Education_DecisionTree.ipynb\" target=\"_parent\"><img src=\"https://colab.research.google.com/assets/colab-badge.svg\" alt=\"Open In Colab\"/></a>"
      ]
    },
    {
      "cell_type": "markdown",
      "source": [
        "# Analysis of tweets on education in ChatGPT\n",
        "## Decision Tree for 3 classes\n",
        "Neutral - 0\n",
        "Positive - 1\n",
        "Negative - 2\n",
        "\n",
        "\n",
        "---\n",
        "\n",
        "\n",
        "The data set : https://drive.google.com/file/d/1Lw3UNB5FCUQqm1Otk7EYBvpDyIHM7ALi/view?usp=drive_link\n",
        "\n",
        "---\n",
        "\n",
        "\n",
        "Orgin: https://www.kaggle.com/datasets/nutrientaxis/chatgpt-and-education-tweets-dataset?select=ChatGPT_Education_Tweets_Dataset.csv"
      ],
      "metadata": {
        "id": "RJVuMIWWo6xi"
      }
    },
    {
      "cell_type": "code",
      "source": [
        "import pandas as pd\n",
        "import numpy as np\n",
        "import nltk\n",
        "import matplotlib.pyplot as plt\n",
        "import seaborn as sns\n",
        "from sklearn.model_selection import train_test_split\n",
        "from sklearn.metrics import accuracy_score, precision_score, recall_score, f1_score, confusion_matrix\n",
        "from sklearn.tree import DecisionTreeClassifier\n",
        "from sklearn.feature_extraction.text import CountVectorizer\n",
        "import time\n",
        "from nltk import download\n",
        "from nltk.corpus import stopwords\n",
        "from nltk.tokenize import word_tokenize, sent_tokenize\n",
        "nltk.download(\"stopwords\")\n",
        "download('punkt')\n"
      ],
      "metadata": {
        "colab": {
          "base_uri": "https://localhost:8080/"
        },
        "id": "MQkcczH1FHSB",
        "outputId": "1cd113bf-a1cf-42ba-e6f7-119f7b9c2aa2"
      },
      "execution_count": null,
      "outputs": [
        {
          "output_type": "stream",
          "name": "stderr",
          "text": [
            "[nltk_data] Downloading package stopwords to /root/nltk_data...\n",
            "[nltk_data]   Unzipping corpora/stopwords.zip.\n",
            "[nltk_data] Downloading package punkt to /root/nltk_data...\n",
            "[nltk_data]   Unzipping tokenizers/punkt.zip.\n"
          ]
        },
        {
          "output_type": "execute_result",
          "data": {
            "text/plain": [
              "True"
            ]
          },
          "metadata": {},
          "execution_count": 12
        }
      ]
    },
    {
      "cell_type": "code",
      "source": [
        "from google.colab import drive\n",
        "drive.mount('/content/gdrive')\n",
        "\n",
        "!ln -s /content/gdrive/My\\ Drive/ /mydrive\n",
        "!ls /mydrive"
      ],
      "metadata": {
        "id": "n1JPzKusgNF3"
      },
      "execution_count": null,
      "outputs": []
    },
    {
      "cell_type": "code",
      "source": [
        "%cd /mydrive/dataset/"
      ],
      "metadata": {
        "colab": {
          "base_uri": "https://localhost:8080/"
        },
        "id": "8_JhHcklgUCo",
        "outputId": "d4aa0e07-fa01-4177-db8a-bcdce4e95483"
      },
      "execution_count": null,
      "outputs": [
        {
          "output_type": "stream",
          "name": "stdout",
          "text": [
            "/content/gdrive/My Drive/dataset\n"
          ]
        }
      ]
    },
    {
      "cell_type": "code",
      "source": [
        " df_data = pd.read_csv(\"ChatGPT_Education_Tweets_Dataset.csv\")"
      ],
      "metadata": {
        "id": "RbaywQvEFLDH"
      },
      "execution_count": null,
      "outputs": []
    },
    {
      "cell_type": "code",
      "source": [
        "# labels to integers\n",
        "df_data['sentiment'] = df_data['sentiment'].replace({'neutral': 0, 'positive': 1, 'negative': 2})"
      ],
      "metadata": {
        "id": "g0IOpxJ9FM8l"
      },
      "execution_count": null,
      "outputs": []
    },
    {
      "cell_type": "code",
      "source": [
        "# Preprocessing\n",
        "def preprocess(text):\n",
        "    stop_words = stopwords.words('english')\n",
        "    stop_words.extend(['from', 'subject', 're', 'edu', 'use', 'one', 'two', 'more'])\n",
        "\n",
        "    words = word_tokenize(text)\n",
        "    filtered_words = [word for word in words if word.lower() not in stop_words and word.lower() != 'mor']\n",
        "    return ' '.join(filtered_words)"
      ],
      "metadata": {
        "id": "4OAaLY2hFQqn"
      },
      "execution_count": null,
      "outputs": []
    },
    {
      "cell_type": "code",
      "source": [
        "# Apply preprocessing to the text data\n",
        "df_data['clean'] = df_data['text'].apply(preprocess)"
      ],
      "metadata": {
        "id": "KcI1L6Nag0ID"
      },
      "execution_count": null,
      "outputs": []
    },
    {
      "cell_type": "code",
      "source": [
        "# Split data into train and test sets\n",
        "x_train, x_test, y_train, y_test = train_test_split(df_data['clean'], df_data['sentiment'], test_size=0.2)"
      ],
      "metadata": {
        "id": "C8vZ3ri-gopQ"
      },
      "execution_count": null,
      "outputs": []
    },
    {
      "cell_type": "code",
      "source": [
        "# Vectorize text data using CountVectorizer\n",
        "vectorizer = CountVectorizer(max_features=5000)  # Choose an appropriate number of features\n",
        "x_train_vectorized = vectorizer.fit_transform(x_train)\n",
        "x_test_vectorized = vectorizer.transform(x_test)"
      ],
      "metadata": {
        "id": "vaEqrOfHFSib"
      },
      "execution_count": null,
      "outputs": []
    },
    {
      "cell_type": "code",
      "source": [
        "# Train a Decision Tree classifier and measure time\n",
        "start_time = time.time()"
      ],
      "metadata": {
        "id": "F1EXStd_FUXK"
      },
      "execution_count": null,
      "outputs": []
    },
    {
      "cell_type": "code",
      "source": [
        "# Create a Decision Tree classifier\n",
        "decision_tree_model = DecisionTreeClassifier()"
      ],
      "metadata": {
        "id": "CopOxq8LFXrs"
      },
      "execution_count": null,
      "outputs": []
    },
    {
      "cell_type": "code",
      "source": [
        "# Train the Decision Tree model on the vectorized training data\n",
        "decision_tree_model.fit(x_train_vectorized, y_train)\n",
        "\n",
        "end_time = time.time()\n",
        "training_time = end_time - start_time\n",
        "print(\"Training time:\", training_time, \"seconds\")"
      ],
      "metadata": {
        "colab": {
          "base_uri": "https://localhost:8080/"
        },
        "id": "6toA_QMBFaop",
        "outputId": "9e3dff24-cfb0-4f91-d2b1-15cda39520d0"
      },
      "execution_count": null,
      "outputs": [
        {
          "output_type": "stream",
          "name": "stdout",
          "text": [
            "Training time: 285.5943126678467 seconds\n"
          ]
        }
      ]
    },
    {
      "cell_type": "code",
      "source": [
        "# Predictions\n",
        "dt_predictions = decision_tree_model.predict(x_test_vectorized)"
      ],
      "metadata": {
        "id": "xkwzjYz2FhMT"
      },
      "execution_count": null,
      "outputs": []
    },
    {
      "cell_type": "code",
      "source": [
        "# Calculate accuracy\n",
        "dt_accuracy = accuracy_score(y_test, dt_predictions)\n",
        "print(\"Decision Tree Model Accuracy:\", dt_accuracy)"
      ],
      "metadata": {
        "colab": {
          "base_uri": "https://localhost:8080/"
        },
        "id": "NRWX7FBuFken",
        "outputId": "ccb549a5-a90a-4096-bb8b-e51e6d1d97b5"
      },
      "execution_count": null,
      "outputs": [
        {
          "output_type": "stream",
          "name": "stdout",
          "text": [
            "Decision Tree Model Accuracy: 0.6596127393926569\n"
          ]
        }
      ]
    },
    {
      "cell_type": "code",
      "execution_count": null,
      "metadata": {
        "colab": {
          "base_uri": "https://localhost:8080/"
        },
        "id": "-nOScPOsE-Ar",
        "outputId": "11bb202c-c97a-4b60-a798-c476c7ff349e"
      },
      "outputs": [
        {
          "output_type": "stream",
          "name": "stdout",
          "text": [
            "Decision Tree Precision: 0.6564128560429118\n",
            "Decision Tree Recall: 0.6596127393926569\n",
            "Decision Tree F1 Score: 0.6576087714072824\n"
          ]
        }
      ],
      "source": [
        "# Calculate other metrics\n",
        "dt_precision = precision_score(y_test, dt_predictions, average='weighted')\n",
        "dt_recall = recall_score(y_test, dt_predictions, average='weighted')\n",
        "dt_f1 = f1_score(y_test, dt_predictions, average='weighted')\n",
        "\n",
        "print(\"Decision Tree Precision:\", dt_precision)\n",
        "print(\"Decision Tree Recall:\", dt_recall)\n",
        "print(\"Decision Tree F1 Score:\", dt_f1)"
      ]
    },
    {
      "cell_type": "code",
      "source": [
        "# Create and display confusion matrix\n",
        "dt_cm = confusion_matrix(y_test, dt_predictions)\n",
        "plt.figure(figsize=(8, 6))\n",
        "sns.heatmap(dt_cm, annot=True, fmt=\"d\", cmap=\"Blues\")\n",
        "plt.xlabel(\"Predicted\")\n",
        "plt.ylabel(\"Actual\")\n",
        "plt.show()"
      ],
      "metadata": {
        "colab": {
          "base_uri": "https://localhost:8080/",
          "height": 542
        },
        "id": "fIr-HvJEFm9u",
        "outputId": "a21a4ba3-e5ce-4960-cfe0-c192f0381eac"
      },
      "execution_count": null,
      "outputs": [
        {
          "output_type": "display_data",
          "data": {
            "text/plain": [
              "<Figure size 800x600 with 2 Axes>"
            ],
            "image/png": "[encoded data removed]"
          },
          "metadata": {}
        }
      ]
    }
  ]
}